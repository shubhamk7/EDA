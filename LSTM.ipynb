{
 "cells": [
  {
   "cell_type": "code",
   "execution_count": 1,
   "metadata": {
    "scrolled": true
   },
   "outputs": [
    {
     "name": "stderr",
     "output_type": "stream",
     "text": [
      "Using TensorFlow backend.\n"
     ]
    }
   ],
   "source": [
    "import pandas as pd\n",
    "import numpy as np\n",
    "from matplotlib import pyplot as plt\n",
    "import re\n",
    "import seaborn as sn\n",
    "from sklearn.model_selection import train_test_split\n",
    "import gc\n",
    "import keras\n",
    "from keras.models import Sequential\n",
    "from keras.layers import LSTM, Dense, Dropout\n",
    "from keras.optimizers import RMSprop"
   ]
  },
  {
   "cell_type": "code",
   "execution_count": 2,
   "metadata": {},
   "outputs": [
    {
     "data": {
      "text/plain": [
       "array(['PLAIN', 'PUNCT', 'DATE', 'LETTERS', 'CARDINAL', 'VERBATIM',\n",
       "       'DECIMAL', 'MEASURE', 'MONEY', 'ORDINAL', 'TIME', 'ELECTRONIC',\n",
       "       'DIGIT', 'FRACTION', 'TELEPHONE'], dtype=object)"
      ]
     },
     "execution_count": 2,
     "metadata": {},
     "output_type": "execute_result"
    }
   ],
   "source": [
    "max_features = 10\n",
    "space_letter = 0\n",
    "\n",
    "training_data = pd.read_csv('D:/Notebook/Text_Normalization_Dataset_English/en_train.csv')\n",
    "training_data = training_data.head(30000)\n",
    "training_data['class'].unique()"
   ]
  },
  {
   "cell_type": "code",
   "execution_count": 3,
   "metadata": {},
   "outputs": [
    {
     "data": {
      "text/plain": [
       "5"
      ]
     },
     "execution_count": 3,
     "metadata": {},
     "output_type": "execute_result"
    }
   ],
   "source": [
    "y_data, labels = pd.factorize(training_data['class'])\n",
    "gc.collect()"
   ]
  },
  {
   "cell_type": "code",
   "execution_count": 4,
   "metadata": {
    "collapsed": true
   },
   "outputs": [],
   "source": [
    "def get_ascii_value(training_data):\n",
    "  x_data = []\n",
    "  for before_value in training_data['before'].values:\n",
    "    row = np.ones(max_features, dtype=int) * space_letter\n",
    "    for before_value_char, i in zip(list(str(before_value)), np.arange(max_features)):\n",
    "        row[i] = ord(before_value_char)\n",
    "    x_data.append(row)\n",
    "  return x_data"
   ]
  },
  {
   "cell_type": "code",
   "execution_count": 5,
   "metadata": {
    "collapsed": true
   },
   "outputs": [],
   "source": [
    "x_data=get_ascii_value(training_data)"
   ]
  },
  {
   "cell_type": "code",
   "execution_count": 6,
   "metadata": {
    "collapsed": true
   },
   "outputs": [],
   "source": [
    "def make_batch(data, row_size, max_features, end_indicater):\n",
    "    pad = np.zeros(shape=max_features)\n",
    "    pads = [pad for _ in  np.arange(row_size)]\n",
    "    data = pads + data + pads\n",
    "    batchs = []\n",
    "    for lower_bound in np.arange(len(data) - row_size * 2):\n",
    "        batch = []\n",
    "        batch_size = row_size * 2 + 1\n",
    "        upper_bound = lower_bound + batch_size\n",
    "        context_window = data[lower_bound:upper_bound]\n",
    "        for word in context_window:\n",
    "            batch.append([end_indicater])\n",
    "            batch.append(word)\n",
    "        batch.append([end_indicater])\n",
    "        batchs.append([int(word) for row in batch for word in row])\n",
    "    return batchs"
   ]
  },
  {
   "cell_type": "code",
   "execution_count": 7,
   "metadata": {},
   "outputs": [
    {
     "data": {
      "text/plain": [
       "0"
      ]
     },
     "execution_count": 7,
     "metadata": {},
     "output_type": "execute_result"
    }
   ],
   "source": [
    "x_data = x_data[:len(training_data)]\n",
    "y_data = y_data[:len(training_data)]\n",
    "x_data = np.array(make_batch(x_data, row_size = 1, max_features= max_features, end_indicater=-1))\n",
    "gc.collect()"
   ]
  },
  {
   "cell_type": "code",
   "execution_count": 8,
   "metadata": {},
   "outputs": [
    {
     "data": {
      "text/plain": [
       "0"
      ]
     },
     "execution_count": 8,
     "metadata": {},
     "output_type": "execute_result"
    }
   ],
   "source": [
    "x_train = np.array(x_data)\n",
    "y_train = np.array(y_data)\n",
    "gc.collect()"
   ]
  },
  {
   "cell_type": "code",
   "execution_count": 9,
   "metadata": {
    "collapsed": true
   },
   "outputs": [],
   "source": [
    "x_train, x_valid, y_train, y_valid = train_test_split(x_train, y_train, test_size=0.1)"
   ]
  },
  {
   "cell_type": "code",
   "execution_count": 10,
   "metadata": {},
   "outputs": [
    {
     "name": "stdout",
     "output_type": "stream",
     "text": [
      "(27000, 34)\n"
     ]
    }
   ],
   "source": [
    "y_train = keras.utils.to_categorical(y_train, len(labels))\n",
    "y_valid = keras.utils.to_categorical(y_valid, len(labels))\n",
    "print(x_train.shape)"
   ]
  },
  {
   "cell_type": "code",
   "execution_count": 11,
   "metadata": {
    "collapsed": true
   },
   "outputs": [],
   "source": [
    "x_train = np.reshape(x_train, (x_train.shape[0], x_train.shape[1], 1))\n",
    "x_valid = np.reshape(x_valid, (x_valid.shape[0], x_valid.shape[1], 1))"
   ]
  },
  {
   "cell_type": "code",
   "execution_count": 13,
   "metadata": {},
   "outputs": [],
   "source": [
    "model = Sequential()\n",
    "model.add(LSTM(128, dropout=0.2, recurrent_dropout=0.2, input_shape=((max_features * 3) + 4, 1)))\n",
    "model.add(Dense(32, activation='relu'))\n",
    "model.add(Dropout(0.2))\n",
    "model.add(Dense(len(labels), activation='softmax'))"
   ]
  },
  {
   "cell_type": "code",
   "execution_count": 15,
   "metadata": {},
   "outputs": [
    {
     "name": "stdout",
     "output_type": "stream",
     "text": [
      "_________________________________________________________________\n",
      "Layer (type)                 Output Shape              Param #   \n",
      "=================================================================\n",
      "lstm_1 (LSTM)                (None, 128)               66560     \n",
      "_________________________________________________________________\n",
      "dense_1 (Dense)              (None, 32)                4128      \n",
      "_________________________________________________________________\n",
      "dropout_1 (Dropout)          (None, 32)                0         \n",
      "_________________________________________________________________\n",
      "dense_2 (Dense)              (None, 15)                495       \n",
      "=================================================================\n",
      "Total params: 71,183\n",
      "Trainable params: 71,183\n",
      "Non-trainable params: 0\n",
      "_________________________________________________________________\n"
     ]
    }
   ],
   "source": [
    "model.summary()"
   ]
  },
  {
   "cell_type": "code",
   "execution_count": 16,
   "metadata": {
    "collapsed": true
   },
   "outputs": [],
   "source": [
    "model.compile(optimizer='rmsprop', loss='categorical_crossentropy', metrics=['accuracy'])"
   ]
  },
  {
   "cell_type": "code",
   "execution_count": 17,
   "metadata": {},
   "outputs": [
    {
     "name": "stdout",
     "output_type": "stream",
     "text": [
      "Train on 27000 samples, validate on 3000 samples\n",
      "Epoch 1/30\n",
      "27000/27000 [==============================] - 14s 519us/step - loss: 0.8518 - acc: 0.7730 - val_loss: 0.3584 - val_acc: 0.9170\n",
      "Epoch 2/30\n",
      "27000/27000 [==============================] - 12s 438us/step - loss: 0.4286 - acc: 0.8989 - val_loss: 0.3895 - val_acc: 0.8693\n",
      "Epoch 3/30\n",
      "27000/27000 [==============================] - 12s 437us/step - loss: 0.3464 - acc: 0.9201 - val_loss: 0.2601 - val_acc: 0.9227\n",
      "Epoch 4/30\n",
      "27000/27000 [==============================] - 12s 439us/step - loss: 0.2995 - acc: 0.9287 - val_loss: 0.4846 - val_acc: 0.8697\n",
      "Epoch 5/30\n",
      "27000/27000 [==============================] - 12s 439us/step - loss: 0.2590 - acc: 0.9347 - val_loss: 0.1915 - val_acc: 0.9460\n",
      "Epoch 6/30\n",
      "27000/27000 [==============================] - 12s 439us/step - loss: 0.2403 - acc: 0.9406 - val_loss: 0.3484 - val_acc: 0.9110\n",
      "Epoch 7/30\n",
      "27000/27000 [==============================] - 12s 435us/step - loss: 0.2223 - acc: 0.9451 - val_loss: 0.3207 - val_acc: 0.9223\n",
      "Epoch 8/30\n",
      "27000/27000 [==============================] - 12s 436us/step - loss: 0.2137 - acc: 0.9470 - val_loss: 0.3177 - val_acc: 0.9260\n",
      "Epoch 9/30\n",
      "27000/27000 [==============================] - 12s 434us/step - loss: 0.2011 - acc: 0.9496 - val_loss: 0.3793 - val_acc: 0.9110\n",
      "Epoch 10/30\n",
      "27000/27000 [==============================] - 12s 444us/step - loss: 0.1966 - acc: 0.9507 - val_loss: 0.7500 - val_acc: 0.7553\n",
      "Epoch 11/30\n",
      "27000/27000 [==============================] - 12s 451us/step - loss: 0.1849 - acc: 0.9537 - val_loss: 0.2177 - val_acc: 0.9417\n",
      "Epoch 12/30\n",
      "27000/27000 [==============================] - 12s 451us/step - loss: 0.1819 - acc: 0.9548 - val_loss: 0.5725 - val_acc: 0.7487\n",
      "Epoch 13/30\n",
      "27000/27000 [==============================] - 12s 450us/step - loss: 0.1742 - acc: 0.9563 - val_loss: 0.2459 - val_acc: 0.9367\n",
      "Epoch 14/30\n",
      "27000/27000 [==============================] - 12s 453us/step - loss: 0.1694 - acc: 0.9582 - val_loss: 0.4292 - val_acc: 0.8333\n",
      "Epoch 15/30\n",
      "27000/27000 [==============================] - 12s 450us/step - loss: 0.1631 - acc: 0.9590 - val_loss: 0.2125 - val_acc: 0.9383\n",
      "Epoch 16/30\n",
      "27000/27000 [==============================] - 12s 454us/step - loss: 0.1605 - acc: 0.9601 - val_loss: 0.6310 - val_acc: 0.6977\n",
      "Epoch 17/30\n",
      "27000/27000 [==============================] - 12s 452us/step - loss: 0.1601 - acc: 0.9598 - val_loss: 0.6969 - val_acc: 0.6613\n",
      "Epoch 18/30\n",
      "27000/27000 [==============================] - 12s 451us/step - loss: 0.1574 - acc: 0.9607 - val_loss: 0.4059 - val_acc: 0.8807\n",
      "Epoch 19/30\n",
      "27000/27000 [==============================] - 12s 453us/step - loss: 0.1524 - acc: 0.9626 - val_loss: 0.3650 - val_acc: 0.8663\n",
      "Epoch 20/30\n",
      "27000/27000 [==============================] - 12s 451us/step - loss: 0.1514 - acc: 0.9609 - val_loss: 0.1717 - val_acc: 0.9460\n",
      "Epoch 21/30\n",
      "27000/27000 [==============================] - 12s 451us/step - loss: 0.1475 - acc: 0.9642 - val_loss: 0.1777 - val_acc: 0.9497\n",
      "Epoch 22/30\n",
      "27000/27000 [==============================] - 12s 447us/step - loss: 0.1436 - acc: 0.9622 - val_loss: 0.5539 - val_acc: 0.7753\n",
      "Epoch 23/30\n",
      "27000/27000 [==============================] - 12s 447us/step - loss: 0.1412 - acc: 0.9636 - val_loss: 0.3297 - val_acc: 0.9000\n",
      "Epoch 24/30\n",
      "27000/27000 [==============================] - 12s 447us/step - loss: 0.1399 - acc: 0.9647 - val_loss: 0.3166 - val_acc: 0.8537\n",
      "Epoch 25/30\n",
      "27000/27000 [==============================] - 12s 449us/step - loss: 0.1408 - acc: 0.9655 - val_loss: 0.4059 - val_acc: 0.8153\n",
      "Epoch 26/30\n",
      "27000/27000 [==============================] - 12s 448us/step - loss: 0.1356 - acc: 0.9656 - val_loss: 0.5263 - val_acc: 0.7350\n",
      "Epoch 27/30\n",
      "27000/27000 [==============================] - 12s 448us/step - loss: 0.1342 - acc: 0.9654 - val_loss: 0.3365 - val_acc: 0.8580\n",
      "Epoch 28/30\n",
      "27000/27000 [==============================] - 12s 448us/step - loss: 0.1365 - acc: 0.9651 - val_loss: 0.3008 - val_acc: 0.8627\n",
      "Epoch 29/30\n",
      "27000/27000 [==============================] - 12s 447us/step - loss: 0.1337 - acc: 0.9666 - val_loss: 0.8435 - val_acc: 0.5270\n",
      "Epoch 30/30\n",
      "27000/27000 [==============================] - 12s 449us/step - loss: 0.1301 - acc: 0.9669 - val_loss: 0.4786 - val_acc: 0.7777\n"
     ]
    }
   ],
   "source": [
    "result = model.fit(x_train, y_train, batch_size=256, epochs=30, verbose=1, validation_data=(x_valid, y_valid))"
   ]
  },
  {
   "cell_type": "code",
   "execution_count": 18,
   "metadata": {},
   "outputs": [
    {
     "data": {
      "text/plain": [
       "0"
      ]
     },
     "execution_count": 18,
     "metadata": {},
     "output_type": "execute_result"
    }
   ],
   "source": [
    "gc.collect()"
   ]
  },
  {
   "cell_type": "code",
   "execution_count": 19,
   "metadata": {
    "collapsed": true
   },
   "outputs": [],
   "source": [
    "score = model.evaluate(x_valid, y_valid, verbose=0)"
   ]
  },
  {
   "cell_type": "code",
   "execution_count": 20,
   "metadata": {},
   "outputs": [
    {
     "name": "stdout",
     "output_type": "stream",
     "text": [
      "Accuracy==> 0.777666666507721\n"
     ]
    }
   ],
   "source": [
    "print(\"Accuracy==>\",score[1])"
   ]
  },
  {
   "cell_type": "code",
   "execution_count": 21,
   "metadata": {},
   "outputs": [
    {
     "data": {
      "image/png": "[encoded data removed]",
      "text/plain": [
       "<Figure size 432x288 with 1 Axes>"
      ]
     },
     "metadata": {},
     "output_type": "display_data"
    }
   ],
   "source": [
    "plt.plot(result.history['acc'])\n",
    "plt.title(\"Accuracy\")\n",
    "plt.ylabel(\"Accuracy\")\n",
    "plt.xlabel(\"Epoch\")\n",
    "plt.show()"
   ]
  },
  {
   "cell_type": "code",
   "execution_count": 22,
   "metadata": {},
   "outputs": [
    {
     "data": {
      "image/png": "[encoded data removed]",
      "text/plain": [
       "<Figure size 432x288 with 1 Axes>"
      ]
     },
     "metadata": {},
     "output_type": "display_data"
    }
   ],
   "source": [
    "plt.plot(result.history['loss'])\n",
    "plt.title('Loss')\n",
    "plt.ylabel(\"Loss\")\n",
    "plt.xlabel(\"Epoch\")\n",
    "plt.show()"
   ]
  },
  {
   "cell_type": "code",
   "execution_count": 23,
   "metadata": {
    "collapsed": true
   },
   "outputs": [],
   "source": [
    "predicted_valid = model.predict(x_valid)"
   ]
  },
  {
   "cell_type": "code",
   "execution_count": 24,
   "metadata": {
    "collapsed": true
   },
   "outputs": [],
   "source": [
    "predicted_valid = [labels[np.argmax(x)] for x in predicted_valid]\n",
    "x_valid = [[chr(x) for x in y[2 + max_features: 2 + max_features * 2]] for y in x_valid]\n",
    "x_valid = [''.join(x) for x in x_valid]\n",
    "x_valid = [re.sub('a+$', '', x) for x in x_valid]"
   ]
  },
  {
   "cell_type": "code",
   "execution_count": 25,
   "metadata": {},
   "outputs": [
    {
     "data": {
      "text/plain": [
       "4786"
      ]
     },
     "execution_count": 25,
     "metadata": {},
     "output_type": "execute_result"
    }
   ],
   "source": [
    "gc.collect()"
   ]
  },
  {
   "cell_type": "code",
   "execution_count": 26,
   "metadata": {
    "collapsed": true
   },
   "outputs": [],
   "source": [
    "df_predicted_valid = pd.DataFrame(columns=['data', 'predict'])\n",
    "df_predicted_valid['data'] = x_valid\n",
    "df_predicted_valid['predict'] = predicted_valid\n",
    "df_predicted_valid.to_csv('validation_pred_lstm.csv')"
   ]
  },
  {
   "cell_type": "code",
   "execution_count": 27,
   "metadata": {},
   "outputs": [
    {
     "data": {
      "text/html": [
       "<div>\n",
       "<style scoped>\n",
       "    .dataframe tbody tr th:only-of-type {\n",
       "        vertical-align: middle;\n",
       "    }\n",
       "\n",
       "    .dataframe tbody tr th {\n",
       "        vertical-align: top;\n",
       "    }\n",
       "\n",
       "    .dataframe thead th {\n",
       "        text-align: right;\n",
       "    }\n",
       "</style>\n",
       "<table border=\"1\" class=\"dataframe\">\n",
       "  <thead>\n",
       "    <tr style=\"text-align: right;\">\n",
       "      <th></th>\n",
       "      <th>data</th>\n",
       "      <th>predict</th>\n",
       "    </tr>\n",
       "  </thead>\n",
       "  <tbody>\n",
       "    <tr>\n",
       "      <th>0</th>\n",
       "      <td>convert\u0000\u0000\u0000</td>\n",
       "      <td>PLAIN</td>\n",
       "    </tr>\n",
       "    <tr>\n",
       "      <th>1</th>\n",
       "      <td>because\u0000\u0000\u0000</td>\n",
       "      <td>PLAIN</td>\n",
       "    </tr>\n",
       "    <tr>\n",
       "      <th>2</th>\n",
       "      <td>only\u0000\u0000\u0000\u0000\u0000\u0000</td>\n",
       "      <td>PLAIN</td>\n",
       "    </tr>\n",
       "    <tr>\n",
       "      <th>3</th>\n",
       "      <td>were\u0000\u0000\u0000\u0000\u0000\u0000</td>\n",
       "      <td>PLAIN</td>\n",
       "    </tr>\n",
       "    <tr>\n",
       "      <th>4</th>\n",
       "      <td>short\u0000\u0000\u0000\u0000\u0000</td>\n",
       "      <td>PLAIN</td>\n",
       "    </tr>\n",
       "    <tr>\n",
       "      <th>5</th>\n",
       "      <td>Her\u0000\u0000\u0000\u0000\u0000\u0000\u0000</td>\n",
       "      <td>LETTERS</td>\n",
       "    </tr>\n",
       "    <tr>\n",
       "      <th>6</th>\n",
       "      <td>Camp\u0000\u0000\u0000\u0000\u0000\u0000</td>\n",
       "      <td>LETTERS</td>\n",
       "    </tr>\n",
       "    <tr>\n",
       "      <th>7</th>\n",
       "      <td>succeeded\u0000</td>\n",
       "      <td>PLAIN</td>\n",
       "    </tr>\n",
       "    <tr>\n",
       "      <th>8</th>\n",
       "      <td>in\u0000\u0000\u0000\u0000\u0000\u0000\u0000\u0000</td>\n",
       "      <td>PLAIN</td>\n",
       "    </tr>\n",
       "    <tr>\n",
       "      <th>9</th>\n",
       "      <td>,\u0000\u0000\u0000\u0000\u0000\u0000\u0000\u0000\u0000</td>\n",
       "      <td>PUNCT</td>\n",
       "    </tr>\n",
       "    <tr>\n",
       "      <th>10</th>\n",
       "      <td>a\u0000\u0000\u0000\u0000\u0000\u0000\u0000\u0000\u0000</td>\n",
       "      <td>PLAIN</td>\n",
       "    </tr>\n",
       "    <tr>\n",
       "      <th>11</th>\n",
       "      <td>It\u0000\u0000\u0000\u0000\u0000\u0000\u0000\u0000</td>\n",
       "      <td>LETTERS</td>\n",
       "    </tr>\n",
       "    <tr>\n",
       "      <th>12</th>\n",
       "      <td>\"\u0000\u0000\u0000\u0000\u0000\u0000\u0000\u0000\u0000</td>\n",
       "      <td>PUNCT</td>\n",
       "    </tr>\n",
       "    <tr>\n",
       "      <th>13</th>\n",
       "      <td>Retrieved\u0000</td>\n",
       "      <td>PLAIN</td>\n",
       "    </tr>\n",
       "    <tr>\n",
       "      <th>14</th>\n",
       "      <td>,\u0000\u0000\u0000\u0000\u0000\u0000\u0000\u0000\u0000</td>\n",
       "      <td>PUNCT</td>\n",
       "    </tr>\n",
       "    <tr>\n",
       "      <th>15</th>\n",
       "      <td>a\u0000\u0000\u0000\u0000\u0000\u0000\u0000\u0000\u0000</td>\n",
       "      <td>PLAIN</td>\n",
       "    </tr>\n",
       "    <tr>\n",
       "      <th>16</th>\n",
       "      <td>.\u0000\u0000\u0000\u0000\u0000\u0000\u0000\u0000\u0000</td>\n",
       "      <td>PUNCT</td>\n",
       "    </tr>\n",
       "    <tr>\n",
       "      <th>17</th>\n",
       "      <td>passed\u0000\u0000\u0000\u0000</td>\n",
       "      <td>PLAIN</td>\n",
       "    </tr>\n",
       "    <tr>\n",
       "      <th>18</th>\n",
       "      <td>.\u0000\u0000\u0000\u0000\u0000\u0000\u0000\u0000\u0000</td>\n",
       "      <td>PUNCT</td>\n",
       "    </tr>\n",
       "    <tr>\n",
       "      <th>19</th>\n",
       "      <td>.\u0000\u0000\u0000\u0000\u0000\u0000\u0000\u0000\u0000</td>\n",
       "      <td>PUNCT</td>\n",
       "    </tr>\n",
       "    <tr>\n",
       "      <th>20</th>\n",
       "      <td>naked\u0000\u0000\u0000\u0000\u0000</td>\n",
       "      <td>PLAIN</td>\n",
       "    </tr>\n",
       "    <tr>\n",
       "      <th>21</th>\n",
       "      <td>Truidense\u0000</td>\n",
       "      <td>PLAIN</td>\n",
       "    </tr>\n",
       "    <tr>\n",
       "      <th>22</th>\n",
       "      <td>contain\u0000\u0000\u0000</td>\n",
       "      <td>PLAIN</td>\n",
       "    </tr>\n",
       "    <tr>\n",
       "      <th>23</th>\n",
       "      <td>he\u0000\u0000\u0000\u0000\u0000\u0000\u0000\u0000</td>\n",
       "      <td>LETTERS</td>\n",
       "    </tr>\n",
       "    <tr>\n",
       "      <th>24</th>\n",
       "      <td>the\u0000\u0000\u0000\u0000\u0000\u0000\u0000</td>\n",
       "      <td>LETTERS</td>\n",
       "    </tr>\n",
       "    <tr>\n",
       "      <th>25</th>\n",
       "      <td>is\u0000\u0000\u0000\u0000\u0000\u0000\u0000\u0000</td>\n",
       "      <td>PLAIN</td>\n",
       "    </tr>\n",
       "    <tr>\n",
       "      <th>26</th>\n",
       "      <td>.\u0000\u0000\u0000\u0000\u0000\u0000\u0000\u0000\u0000</td>\n",
       "      <td>PUNCT</td>\n",
       "    </tr>\n",
       "    <tr>\n",
       "      <th>27</th>\n",
       "      <td>knows\u0000\u0000\u0000\u0000\u0000</td>\n",
       "      <td>PLAIN</td>\n",
       "    </tr>\n",
       "    <tr>\n",
       "      <th>28</th>\n",
       "      <td>Norman\u0000\u0000\u0000\u0000</td>\n",
       "      <td>PLAIN</td>\n",
       "    </tr>\n",
       "    <tr>\n",
       "      <th>29</th>\n",
       "      <td>1996\u0000\u0000\u0000\u0000\u0000\u0000</td>\n",
       "      <td>DATE</td>\n",
       "    </tr>\n",
       "  </tbody>\n",
       "</table>\n",
       "</div>"
      ],
      "text/plain": [
       "          data  predict\n",
       "0   convert\u0000\u0000\u0000    PLAIN\n",
       "1   because\u0000\u0000\u0000    PLAIN\n",
       "2   only\u0000\u0000\u0000\u0000\u0000\u0000    PLAIN\n",
       "3   were\u0000\u0000\u0000\u0000\u0000\u0000    PLAIN\n",
       "4   short\u0000\u0000\u0000\u0000\u0000    PLAIN\n",
       "5   Her\u0000\u0000\u0000\u0000\u0000\u0000\u0000  LETTERS\n",
       "6   Camp\u0000\u0000\u0000\u0000\u0000\u0000  LETTERS\n",
       "7   succeeded\u0000    PLAIN\n",
       "8   in\u0000\u0000\u0000\u0000\u0000\u0000\u0000\u0000    PLAIN\n",
       "9   ,\u0000\u0000\u0000\u0000\u0000\u0000\u0000\u0000\u0000    PUNCT\n",
       "10  a\u0000\u0000\u0000\u0000\u0000\u0000\u0000\u0000\u0000    PLAIN\n",
       "11  It\u0000\u0000\u0000\u0000\u0000\u0000\u0000\u0000  LETTERS\n",
       "12  \"\u0000\u0000\u0000\u0000\u0000\u0000\u0000\u0000\u0000    PUNCT\n",
       "13  Retrieved\u0000    PLAIN\n",
       "14  ,\u0000\u0000\u0000\u0000\u0000\u0000\u0000\u0000\u0000    PUNCT\n",
       "15  a\u0000\u0000\u0000\u0000\u0000\u0000\u0000\u0000\u0000    PLAIN\n",
       "16  .\u0000\u0000\u0000\u0000\u0000\u0000\u0000\u0000\u0000    PUNCT\n",
       "17  passed\u0000\u0000\u0000\u0000    PLAIN\n",
       "18  .\u0000\u0000\u0000\u0000\u0000\u0000\u0000\u0000\u0000    PUNCT\n",
       "19  .\u0000\u0000\u0000\u0000\u0000\u0000\u0000\u0000\u0000    PUNCT\n",
       "20  naked\u0000\u0000\u0000\u0000\u0000    PLAIN\n",
       "21  Truidense\u0000    PLAIN\n",
       "22  contain\u0000\u0000\u0000    PLAIN\n",
       "23  he\u0000\u0000\u0000\u0000\u0000\u0000\u0000\u0000  LETTERS\n",
       "24  the\u0000\u0000\u0000\u0000\u0000\u0000\u0000  LETTERS\n",
       "25  is\u0000\u0000\u0000\u0000\u0000\u0000\u0000\u0000    PLAIN\n",
       "26  .\u0000\u0000\u0000\u0000\u0000\u0000\u0000\u0000\u0000    PUNCT\n",
       "27  knows\u0000\u0000\u0000\u0000\u0000    PLAIN\n",
       "28  Norman\u0000\u0000\u0000\u0000    PLAIN\n",
       "29  1996\u0000\u0000\u0000\u0000\u0000\u0000     DATE"
      ]
     },
     "execution_count": 27,
     "metadata": {},
     "output_type": "execute_result"
    }
   ],
   "source": [
    "df_predicted_valid.head(30)"
   ]
  },
  {
   "cell_type": "code",
   "execution_count": 28,
   "metadata": {
    "collapsed": true
   },
   "outputs": [],
   "source": [
    "all_classes = set(training_data['class'].unique())\n",
    "predicted_classes = set(df_predicted_valid['predict'].unique())\n",
    "missed_classes = all_classes - predicted_classes"
   ]
  },
  {
   "cell_type": "code",
   "execution_count": 29,
   "metadata": {},
   "outputs": [
    {
     "name": "stdout",
     "output_type": "stream",
     "text": [
      "TELEPHONE\n",
      "ORDINAL\n",
      "MEASURE\n",
      "DIGIT\n",
      "TIME\n",
      "FRACTION\n",
      "DECIMAL\n",
      "ELECTRONIC\n",
      "MONEY\n"
     ]
    }
   ],
   "source": [
    "for cls in missed_classes: print(cls)"
   ]
  }
 ],
 "metadata": {
  "kernelspec": {
   "display_name": "Python 3",
   "language": "python",
   "name": "python3"
  },
  "language_info": {
   "codemirror_mode": {
    "name": "ipython",
    "version": 3
   },
   "file_extension": ".py",
   "mimetype": "text/x-python",
   "name": "python",
   "nbconvert_exporter": "python",
   "pygments_lexer": "ipython3",
   "version": "3.6.8"
  }
 },
 "nbformat": 4,
 "nbformat_minor": 2
}
